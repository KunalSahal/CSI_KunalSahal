{
 "cells": [
  {
   "cell_type": "markdown",
   "id": "19753837",
   "metadata": {},
   "source": [
    "<h1 style=\"text-align:center\">Strings</h1>\n",
    "\n",
    "<b>Function belonging to an object / class is method</b>\n",
    "1. use \"\" to define string if '' is being used inside the string and vice-versa \n"
   ]
  },
  {
   "cell_type": "code",
   "execution_count": 4,
   "id": "0875a6d9",
   "metadata": {},
   "outputs": [
    {
     "name": "stdout",
     "output_type": "stream",
     "text": [
      "we use three quotes either single or double \n",
      "to identify mutli-line string\n",
      "to ignore ' same quote inside use forward slash \n"
     ]
    }
   ],
   "source": [
    "# mutli-line string\n",
    "str = '''we use three quotes either single or double \n",
    "to identify mutli-line string'''\n",
    "str_2 = 'to ignore \\' same quote inside use forward slash ' # better to use different qutoes \n",
    "print(str)\n",
    "print(str_2)"
   ]
  },
  {
   "cell_type": "code",
   "execution_count": 8,
   "id": "04c8ac2b",
   "metadata": {},
   "outputs": [
    {
     "name": "stdout",
     "output_type": "stream",
     "text": [
      "Hello\n",
      "World\n"
     ]
    }
   ],
   "source": [
    "# Slicing (breaking the string as per the index value )\n",
    "str = 'HelloWorld'\n",
    "temp_1 = str[:5]\n",
    "temp_2 = str[5:]\n",
    "print(temp_1)\n",
    "print(temp_2)"
   ]
  },
  {
   "cell_type": "code",
   "execution_count": 13,
   "id": "79d387b7",
   "metadata": {},
   "outputs": [
    {
     "name": "stdout",
     "output_type": "stream",
     "text": [
      "helloworld\n",
      "HELLOWORLD\n",
      "1\n",
      "0\n",
      "3\n"
     ]
    }
   ],
   "source": [
    "# methods \n",
    "\n",
    "# 1. Convertings whole string into lowercase \n",
    "print(str.lower())\n",
    "\n",
    "# 2. Converting whole string into uppercase \n",
    "print(str.upper()) \n",
    "\n",
    "# 3. Counting characters in the string (requires argument to be passed as of what needs to be counted)\n",
    "print(str.count('el'))\n",
    "print(str.count('L')) # case sensitive as both have different ASCII values \n",
    "print(str.count('l'))"
   ]
  },
  {
   "cell_type": "code",
   "execution_count": 19,
   "id": "e18fe621",
   "metadata": {},
   "outputs": [
    {
     "name": "stdout",
     "output_type": "stream",
     "text": [
      "5\n",
      "-1\n",
      "HelloCould\n",
      "HelloWorld\n"
     ]
    }
   ],
   "source": [
    "# 4. To find a character or word in the strin\n",
    "print(str.find('World')) # return starting index of the word\n",
    "print(str.find('find')) # returns -1 if not in the string \n",
    "\n",
    "# 5. Replace characters in string \n",
    "# Doesn't change exisisting string rather returns new string with the replace characters \n",
    "# 2 arguments - i. word to be replaced , ii. word that will be inserted \n",
    "print(str.replace('Wor', 'Cou'))\n",
    "print(str)"
   ]
  },
  {
   "cell_type": "code",
   "execution_count": 26,
   "id": "fee0eeae",
   "metadata": {},
   "outputs": [
    {
     "name": "stdout",
     "output_type": "stream",
     "text": [
      "hitony\n",
      "hi! tony\n",
      "hi!, tony. Welcome\n",
      "hi!, tony. Welcome\n"
     ]
    }
   ],
   "source": [
    "# 6. Concatenation - 3 ways \n",
    "greetings = 'hi'\n",
    "name = 'tony'\n",
    "\n",
    "# i. Using + operator - not useful to concatenate multiple string as it just combines two strings without any formating \n",
    "print(greetings+name)\n",
    "# for formatting \n",
    "print(greetings + '! ' + name)\n",
    "\n",
    "# ii. Using .format() method with placeholders\n",
    "print('{}!, {}. Welcome'.format(greetings,name))\n",
    "\n",
    "# iii. Using f instead to use variable directly inside placeholders . after 3.6 update\n",
    "print(f'{greetings}!, {name}. Welcome')\n"
   ]
  }
 ],
 "metadata": {
  "kernelspec": {
   "display_name": "Python 3",
   "language": "python",
   "name": "python3"
  },
  "language_info": {
   "codemirror_mode": {
    "name": "ipython",
    "version": 3
   },
   "file_extension": ".py",
   "mimetype": "text/x-python",
   "name": "python",
   "nbconvert_exporter": "python",
   "pygments_lexer": "ipython3",
   "version": "3.12.5"
  }
 },
 "nbformat": 4,
 "nbformat_minor": 5
}
