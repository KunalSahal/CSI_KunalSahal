{
 "cells": [
  {
   "cell_type": "markdown",
   "id": "230075ac",
   "metadata": {},
   "source": [
    "<h1 style=\"text-align: center;\">List(mutable)</h1>\n",
    "\n",
    "| Operation             | Time Complexity | Notes                                                             |\n",
    "| --------------------- | --------------- | ----------------------------------------------------------------- |\n",
    "| `ls.append(x)`        | **O(1)**        | Adds element to the end. Amortized constant time.                 |\n",
    "| `ls.pop()`            | **O(1)**        | Removes last element.                                             |\n",
    "| `ls.pop(i)`           | **O(n)**        | Removes element at index `i`; shifts elements left.               |\n",
    "| `ls.insert(i, x)`     | **O(n)**        | Inserts at index `i`; shifts elements right.                      |\n",
    "| `ls.remove(x)`        | **O(n)**        | Searches for `x` and removes first occurrence.                    |\n",
    "| `ls.extend(iterable)` | **O(k)**        | Adds `k` elements to the end; proportional to length of iterable. k = len(iterable), here iterable can be list , set , tuple ,dictonary etc. |\n",
    "| `ls.reverse()`        | **O(n)**        | Reverses list in-place.                                           |\n",
    "| `ls.sort()`           | **O(n log n)**  | Uses Timsort (optimized hybrid sorting algorithm).                |\n"
   ]
  },
  {
   "cell_type": "code",
   "execution_count": 19,
   "id": "97e73cd6",
   "metadata": {},
   "outputs": [
    {
     "name": "stdout",
     "output_type": "stream",
     "text": [
      "[1, 2, 3, 4, 5]\n",
      "[1, 2, 3, 'c', 4, 5]\n"
     ]
    }
   ],
   "source": [
    "ls = [1,2,3,4]\n",
    "\n",
    "# To insert single value at the last \n",
    "#can't insert multiple values .\n",
    "ls.append(5)\n",
    "print(ls)\n",
    "\n",
    "# To insert value at certian index without overwriting \n",
    "ls.insert(3,'c')\n",
    "print(ls)"
   ]
  },
  {
   "cell_type": "code",
   "execution_count": 20,
   "id": "4cc729fa",
   "metadata": {},
   "outputs": [
    {
     "name": "stdout",
     "output_type": "stream",
     "text": [
      "[1, 2, 3, 'c', 4, 5, ['b', 'c']]\n",
      "[1, 2, 3, ['b', 'c'], 'c', 4, 5, ['b', 'c']]\n",
      "[1, 2, 3, ['b', 'c'], 'c', 4, 5, ['b', 'c'], 'b', 'c']\n"
     ]
    }
   ],
   "source": [
    "temp = ['b','c']\n",
    "\n",
    "# if you want to insert above value as a list and not individual values \n",
    "ls.append(temp)\n",
    "print(ls)\n",
    "\n",
    "# to insert whole list at a certain position \n",
    "# it slices the list from the mentioned idex value and then concatenates it back again \n",
    "#t = (1, 2, 4)\n",
    "#t = t[:3] + (3,) + t[3:]    each slicing and concatenation is O(n)\n",
    "\n",
    "ls.insert(3,temp)\n",
    "print(ls)\n",
    "\n",
    "#to indiviual values not in the form of list \n",
    "ls.extend(temp)\n",
    "print(ls)\n"
   ]
  },
  {
   "cell_type": "code",
   "execution_count": 21,
   "id": "badcf4aa",
   "metadata": {},
   "outputs": [
    {
     "name": "stdout",
     "output_type": "stream",
     "text": [
      "[1, 2, 3, ['b', 'c'], 4, 5, ['b', 'c'], 'b', 'c']\n",
      "c\n",
      "[1, 2, 3, ['b', 'c'], 4, 5, ['b', 'c'], 'b']\n",
      "1\n",
      "[2, 3, ['b', 'c'], 4, 5, ['b', 'c'], 'b']\n"
     ]
    }
   ],
   "source": [
    "# to remove values from the list \n",
    "\n",
    "# 1. Finds the value and removes it . Argument is necessary\n",
    "ls.remove('c')\n",
    "print(ls)\n",
    "\n",
    "# 2. By default removes the last value and returns it. Can be used for using list as a stack\n",
    "var = ls.pop()\n",
    "print(var)\n",
    "print(ls)\n",
    "\n",
    "# 3. to pop a specific index\n",
    "var = ls.pop(0)\n",
    "print(var)\n",
    "print(ls)"
   ]
  },
  {
   "cell_type": "code",
   "execution_count": 22,
   "id": "e78e633a",
   "metadata": {},
   "outputs": [
    {
     "name": "stdout",
     "output_type": "stream",
     "text": [
      "None\n",
      "['b', ['b', 'c'], 5, 4, ['b', 'c'], 3, 2]\n"
     ]
    }
   ],
   "source": [
    "# To reverse the list \n",
    "var2 = (ls.reverse()) # Time Complexity O(n)\n",
    "print(var2)\n",
    "print(ls)"
   ]
  },
  {
   "cell_type": "code",
   "execution_count": 23,
   "id": "d938af1d",
   "metadata": {},
   "outputs": [
    {
     "name": "stdout",
     "output_type": "stream",
     "text": [
      "[1, 2]\n",
      "[1, 2, 34, 45]\n",
      "[1, 2, 34, 45, {1: 34, 2: 45}]\n"
     ]
    }
   ],
   "source": [
    "df = []\n",
    "d = {1:34, 2:45}\n",
    "\n",
    "# if d is directly used with extend only key will be added to the list \n",
    "df.extend(d)\n",
    "print(df)\n",
    "\n",
    "# to insert values of the key \n",
    "df.extend(d[x] for x in d)\n",
    "print(df)\n",
    "\n",
    "# to insert whole dictonary \n",
    "df.append(d)\n",
    "print(df)"
   ]
  },
  {
   "cell_type": "markdown",
   "id": "3f9a3b75",
   "metadata": {},
   "source": [
    "| Function  | Time Complexity | Why?                                         |\n",
    "| --------- | --------------- | -------------------------------------------- |\n",
    "| `min(ls)` | **O(n)**        | Scans all elements to find the smallest one. |\n",
    "| `max(ls)` | **O(n)**        | Scans all elements to find the largest one.  |\n",
    "| `sum(ls)` | **O(n)**        | Adds all elements, one by one.               |\n",
    "\n",
    "Note:\n",
    "1. These are all O(n) for plain Python lists.\n",
    "2. If you're using NumPy arrays, the performance can be faster due to C-level optimizations, but time complexity remains O(n)."
   ]
  },
  {
   "cell_type": "code",
   "execution_count": 24,
   "id": "ec7f5a30",
   "metadata": {},
   "outputs": [
    {
     "name": "stdout",
     "output_type": "stream",
     "text": [
      "minmum value in the list =  1\n",
      "maximum value in the list =  9\n",
      "sum of all the value in the list =  24\n"
     ]
    }
   ],
   "source": [
    "# Other built in list methods \n",
    "ls = [1,9,6,3,5]\n",
    "print('minmum value in the list = ',min(ls))\n",
    "print('maximum value in the list = ',max(ls))\n",
    "print('sum of all the value in the list = ',sum(ls))"
   ]
  },
  {
   "cell_type": "code",
   "execution_count": 25,
   "id": "8e3e3bec",
   "metadata": {},
   "outputs": [
    {
     "name": "stdout",
     "output_type": "stream",
     "text": [
      "1\n",
      "True\n",
      "False\n"
     ]
    }
   ],
   "source": [
    "# to find value \n",
    "\n",
    "# 1. as per the value get index position \n",
    "print(ls.index(9))\n",
    "\n",
    "# 2. to get a boolen value for value present or not \n",
    "print(1 in ls)\n",
    "print(10 in ls)"
   ]
  },
  {
   "cell_type": "code",
   "execution_count": 26,
   "id": "169f31dc",
   "metadata": {},
   "outputs": [
    {
     "name": "stdout",
     "output_type": "stream",
     "text": [
      "1\n",
      "9\n",
      "6\n",
      "3\n",
      "5\n",
      "-------------\n",
      "0  ->  1\n",
      "1  ->  9\n",
      "2  ->  6\n",
      "3  ->  3\n",
      "4  ->  5\n",
      "-------------\n",
      "10  ->  1\n",
      "11  ->  9\n",
      "12  ->  6\n",
      "13  ->  3\n",
      "14  ->  5\n"
     ]
    }
   ],
   "source": [
    "# to print value \n",
    "\n",
    "# 1. without index \n",
    "for value in ls:\n",
    "    print(value)\n",
    "print('-------------')\n",
    "\n",
    "# 2. with index \n",
    "for index, value in enumerate(ls): # by default start returning index value as 0\n",
    "    print(index,' -> ', value)\n",
    "print('-------------')\n",
    "    \n",
    "# 3. to start printing values from a random start \n",
    "for index, value in enumerate(ls, start=10):\n",
    "    print(index,' -> ', value)"
   ]
  },
  {
   "cell_type": "code",
   "execution_count": null,
   "id": "9de627df",
   "metadata": {},
   "outputs": [
    {
     "name": "stdout",
     "output_type": "stream",
     "text": [
      "a , b , c\n",
      "['a ', ' b ', ' c']\n",
      "['a', 'b', 'c']\n"
     ]
    }
   ],
   "source": [
    "ls = ['a','b','c']\n",
    "\n",
    "# Converting list into string . Values inside the list should also be string not int\n",
    "str = ' , '.join(ls)\n",
    "print(str)\n",
    "\n",
    "# Converting string into list\n",
    "# I didnt consider space in as a argument so it is carried inside the list \n",
    "temp = str.split(',')\n",
    "print(temp)\n",
    "\n",
    "temp = str.split(' , ')\n",
    "print(temp)\n",
    "\n",
    "# empty list \n",
    "var_list = [] \n",
    "var_list = list() # using class to create an instance . Calling constructor"
   ]
  },
  {
   "cell_type": "markdown",
   "id": "7d91222c",
   "metadata": {},
   "source": [
    "<h1 style=\"text-align: center;\">Tuple (immutable)</h1>\n",
    "\n",
    "1. After defining values can't be changed \n",
    "2. No new item can be appended or extended \n",
    "3. Only traversing is aloud "
   ]
  },
  {
   "cell_type": "code",
   "execution_count": 28,
   "id": "39a57f6f",
   "metadata": {},
   "outputs": [
    {
     "name": "stdout",
     "output_type": "stream",
     "text": [
      "[1, 2, 3, 4, 5, 7]\n"
     ]
    },
    {
     "ename": "AttributeError",
     "evalue": "'tuple' object has no attribute 'append'",
     "output_type": "error",
     "traceback": [
      "\u001b[31m---------------------------------------------------------------------------\u001b[39m",
      "\u001b[31mAttributeError\u001b[39m                            Traceback (most recent call last)",
      "\u001b[36mCell\u001b[39m\u001b[36m \u001b[39m\u001b[32mIn[28]\u001b[39m\u001b[32m, line 10\u001b[39m\n\u001b[32m      7\u001b[39m \u001b[38;5;28mprint\u001b[39m(temp)\n\u001b[32m      9\u001b[39m \u001b[38;5;66;03m# insert value in tuple \u001b[39;00m\n\u001b[32m---> \u001b[39m\u001b[32m10\u001b[39m \u001b[43mtuple_1\u001b[49m\u001b[43m.\u001b[49m\u001b[43mappend\u001b[49m(\u001b[32m4\u001b[39m)\n\u001b[32m     11\u001b[39m \u001b[38;5;28mprint\u001b[39m(tuple_1)\n",
      "\u001b[31mAttributeError\u001b[39m: 'tuple' object has no attribute 'append'"
     ]
    }
   ],
   "source": [
    "tuple_1 = (1,2,5,4,7,3)\n",
    "\n",
    "# Sorting tuple \n",
    "# .sort() is not its attribute \n",
    "# sorted() function sorts it and converts into list\n",
    "temp = sorted(tuple_1)\n",
    "print(temp)\n",
    "\n",
    "# insert value in tuple \n",
    "tuple_1.append(4)\n",
    "print(tuple_1)"
   ]
  },
  {
   "cell_type": "code",
   "execution_count": null,
   "id": "a66beca4",
   "metadata": {},
   "outputs": [
    {
     "name": "stdout",
     "output_type": "stream",
     "text": [
      "Before adding new value :  (1, 2, 5, 4, 7, 3)\n",
      "After adding new value :  (1, 2, 5, 4, 7, 3, 10)\n"
     ]
    }
   ],
   "source": [
    "# New value can't be directly inserted , instead convert it into list and then back to tuple \n",
    "print('Before adding new value : ',tuple_1)\n",
    "temp = list(tuple_1)\n",
    "temp.append(10)\n",
    "tuple_1 = tuple(temp)\n",
    "print('After adding new value : ',tuple_1)\n",
    "# time complexity is O(n)\n",
    "\n",
    "# empty tuple \n",
    "var_list = [] \n",
    "var_list = tuple() # using class to create an instance . Calling constructor"
   ]
  },
  {
   "cell_type": "markdown",
   "id": "c07ae918",
   "metadata": {},
   "source": [
    "<h1 style=\"text-align: center;\">Sets (immutable)</h1>\n",
    "\n",
    "1. Values are unorderd -> Has no index value , means values don't have fixed sequence while traversing . Each time a set is printed can return different sequence of values \n",
    "2. Have no duplicates -> Removes duplicates even if declared purposely . It simply drops them  "
   ]
  },
  {
   "cell_type": "code",
   "execution_count": 2,
   "id": "d723a174",
   "metadata": {},
   "outputs": [
    {
     "name": "stdout",
     "output_type": "stream",
     "text": [
      "duplicate is dropped :  {1, 2, 4, 5}\n",
      "duplicate is dropped :  {1, 2, 4, 5}\n",
      "{'asgf', 'bsdf', 'cgdg'}\n"
     ]
    }
   ],
   "source": [
    "set_1 = {1,2,5,4,1}\n",
    "temp = set_1\n",
    "print('duplicate is dropped : ',temp)\n",
    "print('duplicate is dropped : ',temp)\n",
    "\n",
    "set_2 = {'asgf','cgdg','bsdf'}\n",
    "print(set_2)"
   ]
  },
  {
   "cell_type": "code",
   "execution_count": 6,
   "id": "ca925279",
   "metadata": {},
   "outputs": [
    {
     "name": "stdout",
     "output_type": "stream",
     "text": [
      "{1, 99, 3, 5, 20}\n"
     ]
    }
   ],
   "source": [
    "set_3 = {99, 5, 3, 20, 1}\n",
    "print(set_3)\n"
   ]
  },
  {
   "cell_type": "markdown",
   "id": "5718dbed",
   "metadata": {},
   "source": [
    "Why the order seems stable even after printing mutiple times:-\n",
    "1. Python sets use hash tables under the hood.\n",
    "2. From Python 3.7 onward, insertion order is preserved in dictionaries, and due to shared internal structures, sets may appear to preserve it too — but this is not officially guaranteed.\n",
    "3. That’s why printing the same set multiple times shows the same order — as long as:-\n",
    "\n",
    "    1. You don’t modify the set.\n",
    "    2. The program is running in the same session.\n",
    "    3. The hash seed isn’t randomized."
   ]
  },
  {
   "cell_type": "code",
   "execution_count": 8,
   "id": "03e50349",
   "metadata": {},
   "outputs": [
    {
     "name": "stdout",
     "output_type": "stream",
     "text": [
      "True\n",
      "False\n"
     ]
    }
   ],
   "source": [
    "# Membership Test\n",
    "print(5 in set_1)\n",
    "print(12 in set_1)\n",
    "\n",
    "# Can be done for Tuple and List but \n",
    "# Sets are optimized for this and have lowest time complexity when comes at checking whether a value is in the set or not "
   ]
  },
  {
   "cell_type": "code",
   "execution_count": 11,
   "id": "971c6388",
   "metadata": {},
   "outputs": [
    {
     "name": "stdout",
     "output_type": "stream",
     "text": [
      "{'math', 'hindi'}\n",
      "{'math', 'hindi'}\n"
     ]
    }
   ],
   "source": [
    "# Qucik in comparing itself with other sets \n",
    "temp1 = {'math','hindi','DSA'}\n",
    "temp2 = {'math','hindi','CNP', 'OS'}\n",
    "\n",
    "# 1. to print common values \n",
    "print(temp1.intersection(temp2))\n",
    "print(temp2.intersection(temp1))"
   ]
  },
  {
   "cell_type": "code",
   "execution_count": 14,
   "id": "19ea4db3",
   "metadata": {},
   "outputs": [
    {
     "name": "stdout",
     "output_type": "stream",
     "text": [
      "{'DSA'}\n",
      "{'CNP', 'OS'}\n"
     ]
    }
   ],
   "source": [
    "# 2. to print value that are in temp1 and not in temp2 \n",
    "print(temp1.difference(temp2))\n",
    "print(temp2.difference(temp1)) # value that are in temp2 and not in temp1"
   ]
  },
  {
   "cell_type": "code",
   "execution_count": 16,
   "id": "2fdeb108",
   "metadata": {},
   "outputs": [
    {
     "name": "stdout",
     "output_type": "stream",
     "text": [
      "{'math', 'CNP', 'hindi', 'DSA', 'OS'}\n",
      "{'math', 'CNP', 'hindi', 'DSA', 'OS'}\n"
     ]
    }
   ],
   "source": [
    "# 3. To combine all the values of both sets \n",
    "print(temp1.union(temp2))\n",
    "print(temp2.union(temp1))\n",
    "# simple all the set rules can be applied"
   ]
  },
  {
   "cell_type": "code",
   "execution_count": null,
   "id": "39b6ec4a",
   "metadata": {},
   "outputs": [],
   "source": [
    "# To declare empty set \n",
    "var_set = {} # This will declare empty dictonary and not set \n",
    "var_set = set() # always constructor of the class set is used "
   ]
  }
 ],
 "metadata": {
  "kernelspec": {
   "display_name": "Python 3",
   "language": "python",
   "name": "python3"
  },
  "language_info": {
   "codemirror_mode": {
    "name": "ipython",
    "version": 3
   },
   "file_extension": ".py",
   "mimetype": "text/x-python",
   "name": "python",
   "nbconvert_exporter": "python",
   "pygments_lexer": "ipython3",
   "version": "3.12.5"
  }
 },
 "nbformat": 4,
 "nbformat_minor": 5
}
