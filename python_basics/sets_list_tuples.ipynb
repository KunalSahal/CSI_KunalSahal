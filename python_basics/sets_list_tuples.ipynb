{
 "cells": [
  {
   "cell_type": "markdown",
   "id": "230075ac",
   "metadata": {},
   "source": [
    "| Operation             | Time Complexity | Notes                                                             |\n",
    "| --------------------- | --------------- | ----------------------------------------------------------------- |\n",
    "| `ls.append(x)`        | **O(1)**        | Adds element to the end. Amortized constant time.                 |\n",
    "| `ls.pop()`            | **O(1)**        | Removes last element.                                             |\n",
    "| `ls.pop(i)`           | **O(n)**        | Removes element at index `i`; shifts elements left.               |\n",
    "| `ls.insert(i, x)`     | **O(n)**        | Inserts at index `i`; shifts elements right.                      |\n",
    "| `ls.remove(x)`        | **O(n)**        | Searches for `x` and removes first occurrence.                    |\n",
    "| `ls.extend(iterable)` | **O(k)**        | Adds `k` elements to the end; proportional to length of iterable. k = len(iterable), here iterable can be list , set , tuple ,dictonary etc. |\n",
    "| `ls.reverse()`        | **O(n)**        | Reverses list in-place.                                           |\n",
    "| `ls.sort()`           | **O(n log n)**  | Uses Timsort (optimized hybrid sorting algorithm).                |\n"
   ]
  },
  {
   "cell_type": "code",
   "execution_count": 21,
   "id": "97e73cd6",
   "metadata": {},
   "outputs": [
    {
     "name": "stdout",
     "output_type": "stream",
     "text": [
      "[1, 2, 3, 4, 5]\n",
      "[1, 2, 3, 'c', 4, 5]\n"
     ]
    }
   ],
   "source": [
    "ls = [1,2,3,4]\n",
    "\n",
    "# To insert single value at the last \n",
    "#can't insert multiple values .\n",
    "ls.append(5)\n",
    "print(ls)\n",
    "\n",
    "# To insert value at certian index without overwriting \n",
    "ls.insert(3,'c')\n",
    "print(ls)"
   ]
  },
  {
   "cell_type": "code",
   "execution_count": 22,
   "id": "4cc729fa",
   "metadata": {},
   "outputs": [
    {
     "name": "stdout",
     "output_type": "stream",
     "text": [
      "[1, 2, 3, 'c', 4, 5, ['b', 'c']]\n",
      "[1, 2, 3, ['b', 'c'], 'c', 4, 5, ['b', 'c']]\n",
      "[1, 2, 3, ['b', 'c'], 'c', 4, 5, ['b', 'c'], 'b', 'c']\n"
     ]
    }
   ],
   "source": [
    "temp = ['b','c']\n",
    "\n",
    "# if you want to insert above value as a list and not individual values \n",
    "ls.append(temp)\n",
    "print(ls)\n",
    "\n",
    "# to insert whole list at a certain position \n",
    "ls.insert(3,temp)\n",
    "print(ls)\n",
    "\n",
    "#to indiviual values not in the form of list \n",
    "ls.extend(temp)\n",
    "print(ls)\n"
   ]
  },
  {
   "cell_type": "code",
   "execution_count": 23,
   "id": "badcf4aa",
   "metadata": {},
   "outputs": [
    {
     "name": "stdout",
     "output_type": "stream",
     "text": [
      "[1, 2, 3, ['b', 'c'], 4, 5, ['b', 'c'], 'b', 'c']\n",
      "c\n",
      "[1, 2, 3, ['b', 'c'], 4, 5, ['b', 'c'], 'b']\n",
      "1\n",
      "[2, 3, ['b', 'c'], 4, 5, ['b', 'c'], 'b']\n"
     ]
    }
   ],
   "source": [
    "# to remove values from the list \n",
    "\n",
    "# 1. Finds the value and removes it . Argument is necessary\n",
    "ls.remove('c')\n",
    "print(ls)\n",
    "\n",
    "# 2. By default removes the last value and returns it. Can be used for using list as a stack\n",
    "var = ls.pop()\n",
    "print(var)\n",
    "print(ls)\n",
    "\n",
    "# 3. to pop a specific index\n",
    "var = ls.pop(0)\n",
    "print(var)\n",
    "print(ls)"
   ]
  },
  {
   "cell_type": "code",
   "execution_count": null,
   "id": "e78e633a",
   "metadata": {},
   "outputs": [
    {
     "name": "stdout",
     "output_type": "stream",
     "text": [
      "None\n",
      "['b', ['b', 'c'], 5, 4, ['b', 'c'], 3, 2]\n"
     ]
    }
   ],
   "source": [
    "# To reverse the list \n",
    "var2 = (ls.reverse()) # Time Complexity O(n)\n",
    "print(var2)\n",
    "print(ls)"
   ]
  },
  {
   "cell_type": "code",
   "execution_count": null,
   "id": "d938af1d",
   "metadata": {},
   "outputs": [
    {
     "name": "stdout",
     "output_type": "stream",
     "text": [
      "[1, 2]\n",
      "[1, 2, 34, 45]\n",
      "[1, 2, 34, 45, {1: 34, 2: 45}]\n"
     ]
    },
    {
     "ename": "TypeError",
     "evalue": "'init' is an invalid keyword argument for print()",
     "output_type": "error",
     "traceback": [
      "\u001b[31m---------------------------------------------------------------------------\u001b[39m",
      "\u001b[31mTypeError\u001b[39m                                 Traceback (most recent call last)",
      "\u001b[36mCell\u001b[39m\u001b[36m \u001b[39m\u001b[32mIn[49]\u001b[39m\u001b[32m, line 16\u001b[39m\n\u001b[32m     13\u001b[39m df.append(d)\n\u001b[32m     14\u001b[39m \u001b[38;5;28mprint\u001b[39m(df)\n\u001b[32m---> \u001b[39m\u001b[32m16\u001b[39m \u001b[38;5;28;43mprint\u001b[39;49m\u001b[43m(\u001b[49m\u001b[43minit\u001b[49m\u001b[43m \u001b[49m\u001b[43m=\u001b[49m\u001b[43m \u001b[49m\u001b[38;5;28;43;01mlambda\u001b[39;49;00m\u001b[43m \u001b[49m\u001b[43mdf\u001b[49m\u001b[43m \u001b[49m\u001b[43m:\u001b[49m\u001b[43m \u001b[49m\u001b[43mdf\u001b[49m\u001b[43m>\u001b[49m\u001b[32;43m20\u001b[39;49m\u001b[43m)\u001b[49m\n\u001b[32m     17\u001b[39m \u001b[38;5;28mprint\u001b[39m(\u001b[38;5;28mnext\u001b[39m())\n",
      "\u001b[31mTypeError\u001b[39m: 'init' is an invalid keyword argument for print()"
     ]
    }
   ],
   "source": [
    "df = []\n",
    "d = {1:34, 2:45}\n",
    "\n",
    "# if d is directly used with extend only key will be added to the list \n",
    "df.extend(d)\n",
    "print(df)\n",
    "\n",
    "# to insert values of the key \n",
    "df.extend(d[x] for x in d)\n",
    "print(df)\n",
    "\n",
    "# to insert whole dictonary \n",
    "df.append(d)\n",
    "print(df)\n",
    "\n",
    "init = lambda df : df>20)\n",
    "print(next())"
   ]
  }
 ],
 "metadata": {
  "kernelspec": {
   "display_name": "Python 3",
   "language": "python",
   "name": "python3"
  },
  "language_info": {
   "codemirror_mode": {
    "name": "ipython",
    "version": 3
   },
   "file_extension": ".py",
   "mimetype": "text/x-python",
   "name": "python",
   "nbconvert_exporter": "python",
   "pygments_lexer": "ipython3",
   "version": "3.12.5"
  }
 },
 "nbformat": 4,
 "nbformat_minor": 5
}
