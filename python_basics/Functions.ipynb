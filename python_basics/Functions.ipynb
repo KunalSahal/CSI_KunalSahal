{
 "cells": [
  {
   "cell_type": "code",
   "execution_count": 3,
   "id": "b0c1752e",
   "metadata": {},
   "outputs": [
    {
     "name": "stdout",
     "output_type": "stream",
     "text": [
      "<function test at 0x000001E0CEC18CC0>\n",
      "None\n"
     ]
    }
   ],
   "source": [
    "# Declaring with defining \n",
    "def test():\n",
    "    pass\n",
    "print(test) # returns functions position \n",
    "print(test()) # as nothing is defined so None is returned "
   ]
  },
  {
   "cell_type": "markdown",
   "id": "c46d8a93",
   "metadata": {},
   "source": [
    "<h1 style=\"font-size:50px; font-weight:bold\"> Keep you Code DRY (Don't Repeat Yourself) </h1>"
   ]
  },
  {
   "cell_type": "code",
   "execution_count": 6,
   "id": "bc0d82e8",
   "metadata": {},
   "outputs": [
    {
     "name": "stdout",
     "output_type": "stream",
     "text": [
      "2\n",
      "HELLO\n"
     ]
    }
   ],
   "source": [
    "# consider returning function as a normal variable \n",
    "def test():\n",
    "    return 'hello'\n",
    "print(test().find('l')) \n",
    "# all the string methods are working in the same manner with the function as it returning a string \n",
    "print(test().upper())"
   ]
  },
  {
   "cell_type": "code",
   "execution_count": null,
   "id": "15139aa7",
   "metadata": {},
   "outputs": [
    {
     "name": "stdout",
     "output_type": "stream",
     "text": [
      "Ola! tob.\n"
     ]
    }
   ],
   "source": [
    "# parameters can ask for arguments or can have default values \n",
    "def test(greeting, name='tob'):\n",
    "    print(f'{greeting}! {name}.')\n",
    "\n",
    "test('Ola') # No need to send for already defined parameter"
   ]
  }
 ],
 "metadata": {
  "kernelspec": {
   "display_name": "Python 3",
   "language": "python",
   "name": "python3"
  },
  "language_info": {
   "codemirror_mode": {
    "name": "ipython",
    "version": 3
   },
   "file_extension": ".py",
   "mimetype": "text/x-python",
   "name": "python",
   "nbconvert_exporter": "python",
   "pygments_lexer": "ipython3",
   "version": "3.12.5"
  }
 },
 "nbformat": 4,
 "nbformat_minor": 5
}
