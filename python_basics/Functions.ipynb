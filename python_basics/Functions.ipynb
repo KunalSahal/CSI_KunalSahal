{
 "cells": [
  {
   "cell_type": "markdown",
   "id": "3d7a246f",
   "metadata": {},
   "source": [
    "parameters should be declared in the same order as in the function respectively"
   ]
  },
  {
   "cell_type": "code",
   "execution_count": null,
   "id": "b0c1752e",
   "metadata": {},
   "outputs": [
    {
     "name": "stdout",
     "output_type": "stream",
     "text": [
      "<function test at 0x000001E0CEC18CC0>\n",
      "None\n"
     ]
    }
   ],
   "source": [
    "# Declaring with defining \n",
    "def test():\n",
    "    '''This is Doc string. Used to explain what this function does. Good practice to add it in the beginning of every functions defination'''\n",
    "    \n",
    "    pass\n",
    "print(test) # returns functions position \n",
    "print(test()) # as nothing is defined so None is returned "
   ]
  },
  {
   "cell_type": "markdown",
   "id": "c46d8a93",
   "metadata": {},
   "source": [
    "<h1 style=\"font-size:50px; font-weight:bold\"> Keep you Code DRY (Don't Repeat Yourself) </h1>"
   ]
  },
  {
   "cell_type": "code",
   "execution_count": 6,
   "id": "bc0d82e8",
   "metadata": {},
   "outputs": [
    {
     "name": "stdout",
     "output_type": "stream",
     "text": [
      "2\n",
      "HELLO\n"
     ]
    }
   ],
   "source": [
    "# consider returning function as a normal variable \n",
    "def test():\n",
    "    return 'hello'\n",
    "print(test().find('l')) \n",
    "# all the string methods are working in the same manner with the function as it returning a string \n",
    "print(test().upper())"
   ]
  },
  {
   "cell_type": "code",
   "execution_count": 10,
   "id": "15139aa7",
   "metadata": {},
   "outputs": [
    {
     "name": "stdout",
     "output_type": "stream",
     "text": [
      "Ola! tob.\n",
      "Namastey! Kunal.\n"
     ]
    }
   ],
   "source": [
    "# parameters can ask for arguments or can have default values \n",
    "def test(greeting, name='tob'):\n",
    "    print(f'{greeting}! {name}.')\n",
    "\n",
    "test('Ola') # No need to send for already defined parameter\n",
    "test('Namastey','Kunal') # If sent then it will replace the exsisting value \n",
    "# Already defined variable keeps uses the value as default if no value is received "
   ]
  },
  {
   "cell_type": "code",
   "execution_count": 14,
   "id": "c32bafc2",
   "metadata": {},
   "outputs": [
    {
     "name": "stdout",
     "output_type": "stream",
     "text": [
      "10 kunal\n"
     ]
    }
   ],
   "source": [
    "def test(a ,  b =\"helpo\"):\n",
    "    print(a,b)\n",
    "    \n",
    "test(b = 'kunal',a= 10)"
   ]
  },
  {
   "cell_type": "markdown",
   "id": "7991abfb",
   "metadata": {},
   "source": [
    "1. args dynamically takes positional arguments in form of tuples\n",
    "2. kwargs dynamically takes values with keys -> returns dictonaries \n",
    "3. <b>stars are important name can be any but for conventionally args & kwargs are used </b>\n",
    "4. args -> tuple (so is immutable and all the properties of it are followed)\n",
    "5. kwargs -> dictonary (so is mutable and all the properties of it are followed)\n",
    "6. <b>args -> takes any form of value , kwargs -> only takes mapping or dict vlaues as variable</b>"
   ]
  },
  {
   "cell_type": "code",
   "execution_count": 19,
   "id": "27815f73",
   "metadata": {},
   "outputs": [
    {
     "name": "stdout",
     "output_type": "stream",
     "text": [
      "positional values taken by args : (10, 20, 30)\n",
      "key values taken by kwargs : {'name': 'toby', 'reg_id': 10, 'add': 'USA'}\n"
     ]
    }
   ],
   "source": [
    "def test(*args, **kwargs):\n",
    "    print('positional values taken by args :',args)\n",
    "    print('key values taken by kwargs :',kwargs)\n",
    "    \n",
    "test(10,20,30,name='toby', reg_id=10, add='USA')"
   ]
  },
  {
   "cell_type": "code",
   "execution_count": 21,
   "id": "90299552",
   "metadata": {},
   "outputs": [
    {
     "name": "stdout",
     "output_type": "stream",
     "text": [
      "positional values taken by args : (['hi', 'hello'], (10, 20, 30))\n",
      "key values taken by kwargs : {}\n"
     ]
    }
   ],
   "source": [
    "# if variable are passed normally they are taken as positional values only \n",
    "var_tuple = (10,20,30)\n",
    "var_ls = ['hi','hello']\n",
    "\n",
    "test(var_ls,var_tuple)"
   ]
  },
  {
   "cell_type": "code",
   "execution_count": 24,
   "id": "f5dc189f",
   "metadata": {},
   "outputs": [
    {
     "ename": "TypeError",
     "evalue": "__main__.test() argument after ** must be a mapping, not list",
     "output_type": "error",
     "traceback": [
      "\u001b[31m---------------------------------------------------------------------------\u001b[39m",
      "\u001b[31mTypeError\u001b[39m                                 Traceback (most recent call last)",
      "\u001b[36mCell\u001b[39m\u001b[36m \u001b[39m\u001b[32mIn[24]\u001b[39m\u001b[32m, line 2\u001b[39m\n\u001b[32m      1\u001b[39m \u001b[38;5;66;03m# use * & ** to send them in args and kwargs seperately \u001b[39;00m\n\u001b[32m----> \u001b[39m\u001b[32m2\u001b[39m test(*var_tuple, **var_ls)\n",
      "\u001b[31mTypeError\u001b[39m: __main__.test() argument after ** must be a mapping, not list"
     ]
    }
   ],
   "source": [
    "# use * & ** to send them in args and kwargs seperately \n",
    "test(*var_tuple, **var_ls)"
   ]
  },
  {
   "cell_type": "code",
   "execution_count": 25,
   "id": "7e050c57",
   "metadata": {},
   "outputs": [
    {
     "name": "stdout",
     "output_type": "stream",
     "text": [
      "positional values taken by args : (10, 20, 30, 'hi', 'hello')\n",
      "key values taken by kwargs : {'id': (10, 20), 'name': {'toby', 'jony'}}\n"
     ]
    }
   ],
   "source": [
    "var_dict = {'id':(10,20) ,'name':{'toby','jony'} }\n",
    "test(*var_tuple, *var_ls, **var_dict)"
   ]
  }
 ],
 "metadata": {
  "kernelspec": {
   "display_name": "Python 3",
   "language": "python",
   "name": "python3"
  },
  "language_info": {
   "codemirror_mode": {
    "name": "ipython",
    "version": 3
   },
   "file_extension": ".py",
   "mimetype": "text/x-python",
   "name": "python",
   "nbconvert_exporter": "python",
   "pygments_lexer": "ipython3",
   "version": "3.12.5"
  }
 },
 "nbformat": 4,
 "nbformat_minor": 5
}
