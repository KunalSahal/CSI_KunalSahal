{
 "cells": [
  {
   "cell_type": "markdown",
   "id": "84776822",
   "metadata": {},
   "source": [
    "1. sorted(list) → return a new list with sorted values so used to create a new list variable \n",
    "    1. sorted( list , reverse=True ) → sorts in descending order \n",
    "\n",
    "2. list.sort() → returns NONE and sorts the original list . Can’t be used to create a new list variable as it will simply return none.\n",
    "Original value gets impacted  \n",
    "    1. list.sort(reverse=True) → descending order \n",
    "\n",
    "3. Sorted() is preferred over list.sort() → .sort() is only attribute for list and not for other data types whereas sorted can be used with Tuple , Dictionary etc.\n",
    "\n",
    "4. Parameters of sorted :\n",
    "    1. reverse=True -> to print in descending order \n",
    "    2. key=abs -> compares absoulute values of the integers "
   ]
  },
  {
   "cell_type": "code",
   "execution_count": 1,
   "id": "de262d98",
   "metadata": {},
   "outputs": [
    {
     "name": "stdout",
     "output_type": "stream",
     "text": [
      "after sorting ['id', 'mobile', 'name']\n",
      "after reverse sorting ['name', 'mobile', 'id']\n"
     ]
    }
   ],
   "source": [
    "dict_var = {'id':2, 'name':\"kunal\", 'mobile':34464545}\n",
    "#temp.sort() returns error as it is an attribute only associated with list so sorted() function is preffered\n",
    "temp = sorted(dict_var)\n",
    "rev_temp = sorted(dict_var, reverse=True)\n",
    "print(\"after sorting\",temp)\n",
    "print(\"after reverse sorting\",rev_temp)"
   ]
  },
  {
   "cell_type": "code",
   "execution_count": 2,
   "id": "950e8b92",
   "metadata": {},
   "outputs": [
    {
     "name": "stdout",
     "output_type": "stream",
     "text": [
      "sorted without parameter =  [-6, -4, 1, 2, 3, 5]\n",
      "sorted with key parameter =  [1, 2, 3, -4, 5, -6]\n"
     ]
    }
   ],
   "source": [
    "num = [-4,5,-6,1,3,2]\n",
    "temp = sorted(num)\n",
    "key_temp = sorted(num, key=abs)\n",
    "print(\"sorted without parameter = \",temp)\n",
    "print(\"sorted with key parameter = \",key_temp)"
   ]
  },
  {
   "cell_type": "code",
   "execution_count": 4,
   "id": "e1acee48",
   "metadata": {},
   "outputs": [
    {
     "ename": "TypeError",
     "evalue": "'<' not supported between instances of 'Employee' and 'Employee'",
     "output_type": "error",
     "traceback": [
      "\u001b[31m---------------------------------------------------------------------------\u001b[39m",
      "\u001b[31mTypeError\u001b[39m                                 Traceback (most recent call last)",
      "\u001b[36mCell\u001b[39m\u001b[36m \u001b[39m\u001b[32mIn[4]\u001b[39m\u001b[32m, line 18\u001b[39m\n\u001b[32m     15\u001b[39m e3 = Employee(\u001b[33m\"\u001b[39m\u001b[33mHarshit\u001b[39m\u001b[33m\"\u001b[39m, \u001b[32m43\u001b[39m, \u001b[32m8000\u001b[39m)\n\u001b[32m     16\u001b[39m employees = [e1,e2,e3]\n\u001b[32m---> \u001b[39m\u001b[32m18\u001b[39m sorted_employees = \u001b[38;5;28;43msorted\u001b[39;49m\u001b[43m(\u001b[49m\u001b[43memployees\u001b[49m\u001b[43m)\u001b[49m\n",
      "\u001b[31mTypeError\u001b[39m: '<' not supported between instances of 'Employee' and 'Employee'"
     ]
    }
   ],
   "source": [
    "#Sorted with custom parameter \n",
    "\n",
    "class Employee :\n",
    "    def __init__(self, name, age, salary):\n",
    "        self.name = name \n",
    "        self.age = age \n",
    "        self.salary = salary\n",
    "    # below function is called with the constructor if declared . Used to change the format of value returned by the constructor \n",
    "    # Uses same parameters as of constructor without needing to be defined again\n",
    "    def __repr__(self):\n",
    "        return '({},{},${})'.format(self.name, self.age, self.salary)\n",
    "    \n",
    "e1 = Employee(\"Dheeraj\", 33, 6000)\n",
    "e2 = Employee(\"Kunal\", 23, 7000)\n",
    "e3 = Employee(\"Harshit\", 43, 8000)\n",
    "employees = [e1,e2,e3]\n",
    "\n",
    "sorted_employees = sorted(employees)"
   ]
  },
  {
   "cell_type": "code",
   "execution_count": null,
   "id": "26e393ba",
   "metadata": {},
   "outputs": [
    {
     "name": "stdout",
     "output_type": "stream",
     "text": [
      "[(Harshit,43,$8000), (Kheeraj,33,$6000), (Kunal,23,$7000)]\n"
     ]
    }
   ],
   "source": [
    "#there is error above becuase values cant be directly compared so we can create a custom function to compare each value \n",
    "\n",
    "def emp_sort(emp) :\n",
    "    return (emp.age,-emp.salary)\n",
    "\n",
    "#value being sorted is directly being passed as a parameter when a method is called via key .\n",
    "sorted_employees = sorted(employees, key=emp_sort, reverse=True)\n",
    "print(sorted_employees)"
   ]
  },
  {
   "cell_type": "markdown",
   "id": "6c2367fe",
   "metadata": {},
   "source": [
    "| Aspect          | Lambda Function                                                 | Defining Function Separately                            |\n",
    "| --------------- | --------------------------------------------------------------- | ------------------------------------------------------- |\n",
    "| **Syntax**      | Very concise: `lambda x: x * x`                                 | More verbose but clearer: `def square(x): return x * x` |\n",
    "| **Use case**    | Short, simple functions, usually one-liners                     | More complex logic, multiple statements                 |\n",
    "| **Readability** | Can hurt readability if too complex or nested                   | Generally clearer, especially for longer code           |\n",
    "| **Naming**      | Anonymous (no name)                                             | Named, easier to reference and reuse                    |\n",
    "| **Debugging**   | Harder to debug (no function name in tracebacks)                | Easier to debug with descriptive names                  |\n",
    "| **Reuse**       | Typically used inline, not reused                               | Can be reused multiple times                            |\n",
    "| **When to use** | Quick throwaway function, passed as arg (e.g., `map`, `sorted`) | When function is complex or used in multiple places     |\n",
    "\n",
    "Summary recommendations :\n",
    "1. Use lambda for small, simple, one-off functions passed as arguments.\n",
    "2. Use named functions when the function is:\n",
    "    1. More than one expression,\n",
    "    2. Complex,\n",
    "    3. Needs to be reused,\n",
    "    4. Or benefits from a descriptive name."
   ]
  },
  {
   "cell_type": "code",
   "execution_count": 5,
   "id": "dfefb072",
   "metadata": {},
   "outputs": [
    {
     "name": "stdout",
     "output_type": "stream",
     "text": [
      "[(Dheeraj,33,$6000), (Harshit,43,$8000), (Kunal,23,$7000)]\n"
     ]
    }
   ],
   "source": [
    "#using lambda function \n",
    "sorted_employees = sorted(employees, key=lambda e: e.name)\n",
    "print(sorted_employees)"
   ]
  },
  {
   "cell_type": "markdown",
   "id": "70d48c31",
   "metadata": {},
   "source": [
    "| Feature                 | `attrgetter`                            | Defined Function / Lambda                              |\n",
    "| ----------------------- | --------------------------------------- | ------------------------------------------------------ |\n",
    "| **Purpose**             | Fetch one or more attributes            | Can perform any custom logic                           |\n",
    "| **Syntax**              | Very concise: `attrgetter('name')`      | Slightly longer: `lambda x: x.name` or custom function |\n",
    "| **Performance**         | ✅ Slightly faster (C-implemented)       | Slightly slower (Python-level function)                |\n",
    "| **Readability**         | ✅ Clear for attribute access            | ✅ Clear when logic is complex                          |\n",
    "| **Multiple attributes** | Supports tuples: `attrgetter('a', 'b')` | You need to return a tuple manually                    |\n",
    "| **Customization**       | ❌ Cannot do logic or conditions         | ✅ Full flexibility                                     |\n",
    "\n",
    "Conclusion\n",
    "1. Use attrgetter() for clean, fast, attribute-based sorting.\n",
    "2. Use lambda or a named function when you need logic or flexibility."
   ]
  },
  {
   "cell_type": "code",
   "execution_count": 7,
   "id": "01863b36",
   "metadata": {},
   "outputs": [
    {
     "name": "stdout",
     "output_type": "stream",
     "text": [
      "[(Dheeraj,33,$6000), (Harshit,43,$8000), (Kunal,23,$7000)]\n"
     ]
    }
   ],
   "source": [
    "from operator import attrgetter\n",
    "sorted_employees = sorted(employees, key = attrgetter('name'))\n",
    "print(sorted_employees)"
   ]
  }
 ],
 "metadata": {
  "kernelspec": {
   "display_name": "Python 3",
   "language": "python",
   "name": "python3"
  },
  "language_info": {
   "codemirror_mode": {
    "name": "ipython",
    "version": 3
   },
   "file_extension": ".py",
   "mimetype": "text/x-python",
   "name": "python",
   "nbconvert_exporter": "python",
   "pygments_lexer": "ipython3",
   "version": "3.12.5"
  }
 },
 "nbformat": 4,
 "nbformat_minor": 5
}
