{
 "cells": [
  {
   "cell_type": "code",
   "execution_count": 1,
   "id": "ec5e3bb6",
   "metadata": {},
   "outputs": [
    {
     "name": "stdout",
     "output_type": "stream",
     "text": [
      "140710443158232\n"
     ]
    }
   ],
   "source": [
    "# to check where a variable is pointing \n",
    "a = 10\n",
    "print(id(a))"
   ]
  },
  {
   "cell_type": "code",
   "execution_count": 2,
   "id": "5113f321",
   "metadata": {},
   "outputs": [
    {
     "name": "stdout",
     "output_type": "stream",
     "text": [
      "140710443158232\n",
      "True\n"
     ]
    }
   ],
   "source": [
    "# Diff between == and is \n",
    "# == only compares values whereas is also compares memory address or identity of a list object . True only if both have same memory address \n",
    "b =10\n",
    "print(id(b))\n",
    "print (a is b)"
   ]
  },
  {
   "cell_type": "code",
   "execution_count": 4,
   "id": "5dae4189",
   "metadata": {},
   "outputs": [
    {
     "name": "stdout",
     "output_type": "stream",
     "text": [
      "Evaluated False\n"
     ]
    }
   ],
   "source": [
    "# What all python considers false\n",
    "condition = None\n",
    "\n",
    "if condition :\n",
    "    print('Evaluated True')\n",
    "else : \n",
    "    print('Evaluated False')"
   ]
  },
  {
   "cell_type": "code",
   "execution_count": null,
   "id": "1f2ad8d3",
   "metadata": {},
   "outputs": [
    {
     "name": "stdout",
     "output_type": "stream",
     "text": [
      "Evaluated False\n"
     ]
    }
   ],
   "source": [
    "condition = False\n",
    "\n",
    "if condition :\n",
    "    print('Evaluated True')\n",
    "else : \n",
    "    print('Evaluated False')"
   ]
  },
  {
   "cell_type": "code",
   "execution_count": 7,
   "id": "89502532",
   "metadata": {},
   "outputs": [
    {
     "name": "stdout",
     "output_type": "stream",
     "text": [
      "Evaluated False\n"
     ]
    }
   ],
   "source": [
    "condition = 0\n",
    "\n",
    "if condition :\n",
    "    print('Evaluated True')\n",
    "else : \n",
    "    print('Evaluated False')"
   ]
  },
  {
   "cell_type": "code",
   "execution_count": 8,
   "id": "4e8d38ef",
   "metadata": {},
   "outputs": [
    {
     "name": "stdout",
     "output_type": "stream",
     "text": [
      "Evaluated False\n"
     ]
    }
   ],
   "source": [
    "condition = [] # empty list is considerd false\n",
    "\n",
    "if condition :\n",
    "    print('Evaluated True')\n",
    "else : \n",
    "    print('Evaluated False')"
   ]
  },
  {
   "cell_type": "code",
   "execution_count": 9,
   "id": "cd7ece06",
   "metadata": {},
   "outputs": [
    {
     "name": "stdout",
     "output_type": "stream",
     "text": [
      "Evaluated False\n"
     ]
    }
   ],
   "source": [
    "condition = '' # empty string false\n",
    "\n",
    "if condition :\n",
    "    print('Evaluated True')\n",
    "else : \n",
    "    print('Evaluated False')"
   ]
  },
  {
   "cell_type": "code",
   "execution_count": null,
   "id": "bd7925a2",
   "metadata": {},
   "outputs": [
    {
     "name": "stdout",
     "output_type": "stream",
     "text": [
      "Evaluated False\n"
     ]
    }
   ],
   "source": [
    "condition = {} # empty dictonary \n",
    "\n",
    "if condition :\n",
    "    print('Evaluated True')\n",
    "else : \n",
    "    print('Evaluated False')"
   ]
  },
  {
   "cell_type": "code",
   "execution_count": 12,
   "id": "e5b73c32",
   "metadata": {},
   "outputs": [
    {
     "name": "stdout",
     "output_type": "stream",
     "text": [
      "Evaluated False\n"
     ]
    }
   ],
   "source": [
    "condition = set() # empty set\n",
    "\n",
    "if condition :\n",
    "    print('Evaluated True')\n",
    "else : \n",
    "    print('Evaluated False')"
   ]
  },
  {
   "cell_type": "code",
   "execution_count": null,
   "id": "e5f1d5ad",
   "metadata": {},
   "outputs": [
    {
     "name": "stdout",
     "output_type": "stream",
     "text": [
      "Evaluated True Tony\n"
     ]
    }
   ],
   "source": [
    "# rest all will give true as in any valued string or set or list or dictonary or any etc.\n",
    "condition = 'Tony'\n",
    "\n",
    "if condition :\n",
    "    print('Evaluated True', condition)\n",
    "else : \n",
    "    print('Evaluated False')"
   ]
  }
 ],
 "metadata": {
  "kernelspec": {
   "display_name": "Python 3",
   "language": "python",
   "name": "python3"
  },
  "language_info": {
   "codemirror_mode": {
    "name": "ipython",
    "version": 3
   },
   "file_extension": ".py",
   "mimetype": "text/x-python",
   "name": "python",
   "nbconvert_exporter": "python",
   "pygments_lexer": "ipython3",
   "version": "3.12.5"
  }
 },
 "nbformat": 4,
 "nbformat_minor": 5
}
