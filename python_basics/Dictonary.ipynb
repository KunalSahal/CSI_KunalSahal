{
 "cells": [
  {
   "cell_type": "code",
   "execution_count": 1,
   "id": "5d858709",
   "metadata": {},
   "outputs": [
    {
     "name": "stdout",
     "output_type": "stream",
     "text": [
      "Kunal\n"
     ]
    },
    {
     "ename": "KeyError",
     "evalue": "'phone'",
     "output_type": "error",
     "traceback": [
      "\u001b[31m---------------------------------------------------------------------------\u001b[39m",
      "\u001b[31mKeyError\u001b[39m                                  Traceback (most recent call last)",
      "\u001b[36mCell\u001b[39m\u001b[36m \u001b[39m\u001b[32mIn[1]\u001b[39m\u001b[32m, line 3\u001b[39m\n\u001b[32m      1\u001b[39m empolyee = {\u001b[33m'\u001b[39m\u001b[33mname\u001b[39m\u001b[33m'\u001b[39m:\u001b[33m'\u001b[39m\u001b[33mKunal\u001b[39m\u001b[33m'\u001b[39m, \u001b[33m'\u001b[39m\u001b[33mage\u001b[39m\u001b[33m'\u001b[39m:\u001b[32m22\u001b[39m, \u001b[33m'\u001b[39m\u001b[33msalary\u001b[39m\u001b[33m'\u001b[39m:\u001b[32m50000\u001b[39m}\n\u001b[32m      2\u001b[39m \u001b[38;5;28mprint\u001b[39m(empolyee[\u001b[33m'\u001b[39m\u001b[33mname\u001b[39m\u001b[33m'\u001b[39m])\n\u001b[32m----> \u001b[39m\u001b[32m3\u001b[39m \u001b[38;5;28mprint\u001b[39m(\u001b[43mempolyee\u001b[49m\u001b[43m[\u001b[49m\u001b[33;43m'\u001b[39;49m\u001b[33;43mphone\u001b[39;49m\u001b[33;43m'\u001b[39;49m\u001b[43m]\u001b[49m)\n",
      "\u001b[31mKeyError\u001b[39m: 'phone'"
     ]
    }
   ],
   "source": [
    "empolyee = {'name':'Kunal', 'age':22, 'salary':50000}\n",
    "print(empolyee['name'])\n",
    "print(empolyee['phone'])"
   ]
  },
  {
   "cell_type": "code",
   "execution_count": 2,
   "id": "d34948f1",
   "metadata": {},
   "outputs": [
    {
     "name": "stdout",
     "output_type": "stream",
     "text": [
      "Kunal\n",
      "None\n",
      "Key Does Not Exists\n"
     ]
    }
   ],
   "source": [
    "# to throw a specific error use get method provided by dictonary \n",
    "print(empolyee.get('name')) # returns value in the normal way if the key exists \n",
    "print(empolyee.get('phone')) # by default None is returned for a missing key \n",
    "print(empolyee.get('phone',\"Key Does Not Exists\")) # specific message has been returned "
   ]
  },
  {
   "cell_type": "code",
   "execution_count": 3,
   "id": "83b431ba",
   "metadata": {},
   "outputs": [
    {
     "name": "stdout",
     "output_type": "stream",
     "text": [
      "Before inserting new key =  {'name': 'Kunal', 'age': 22, 'salary': 50000}\n",
      "After inserting new key =  {'name': 'Kunal', 'age': 22, 'salary': 50000, 'phone': 945565342}\n",
      "Before updation name =  Kunal\n",
      "After updation name =  Catlin\n",
      "Before updating :  {'name': 'Catlin', 'age': 22, 'salary': 50000, 'phone': 945565342}\n",
      "After updating :  {'name': 'Hola', 'age': 34, 'salary': 90000, 'phone': 945565342}\n"
     ]
    }
   ],
   "source": [
    "# To insert new key \n",
    "print('Before inserting new key = ',empolyee)\n",
    "empolyee['phone'] = 945565342\n",
    "print('After inserting new key = ',empolyee)\n",
    "\n",
    "#replacing an exsisting value of a key \n",
    "print('Before updation name = ',empolyee['name'])\n",
    "empolyee['name'] = 'Catlin'\n",
    "print('After updation name = ',empolyee['name'])\n",
    "\n",
    "#To update multiple values at the same time \n",
    "print('Before updating : ',empolyee)\n",
    "empolyee.update({'name':'Hola', 'age':34, 'salary':90000})\n",
    "print('After updating : ',empolyee)"
   ]
  },
  {
   "cell_type": "code",
   "execution_count": 4,
   "id": "012f5d62",
   "metadata": {},
   "outputs": [
    {
     "name": "stdout",
     "output_type": "stream",
     "text": [
      "After deletion :  {'name': 'Hola', 'age': 34, 'salary': 90000}\n",
      "-------------------------------\n",
      "{'name': 'Hola', 'salary': 90000}\n",
      "34\n"
     ]
    }
   ],
   "source": [
    "# Deleting a key\n",
    "del empolyee['phone']\n",
    "print('After deletion : ',empolyee)\n",
    "print('-------------------------------')\n",
    "# To delete key and store its value\n",
    "age = empolyee.pop('age')\n",
    "print(empolyee)\n",
    "print(age)"
   ]
  },
  {
   "cell_type": "code",
   "execution_count": 5,
   "id": "3d866a23",
   "metadata": {},
   "outputs": [
    {
     "name": "stdout",
     "output_type": "stream",
     "text": [
      "1. To only print keys :-  dict_keys(['name', 'salary'])\n",
      "2. To only print values :-  dict_values(['Hola', 90000])\n",
      "3. To only print pair of key and value :-  dict_items([('name', 'Hola'), ('salary', 90000)])\n"
     ]
    }
   ],
   "source": [
    "#other methods provided by dictonary \n",
    "print('1. To only print keys :- ',empolyee.keys())\n",
    "print('2. To only print values :- ',empolyee.values())\n",
    "print('3. To only print pair of key and value :- ',empolyee.items())"
   ]
  },
  {
   "cell_type": "code",
   "execution_count": 8,
   "id": "4ffaf1d5",
   "metadata": {},
   "outputs": [
    {
     "name": "stdout",
     "output_type": "stream",
     "text": [
      "0 name\n",
      "1 salary\n",
      "-------------------------------\n",
      "name Hola\n",
      "salary 90000\n"
     ]
    }
   ],
   "source": [
    "# to go through each key and value\n",
    "for key, value in enumerate(empolyee): # only index value and key is returned \n",
    "    print(key,value)\n",
    "print('-------------------------------')\n",
    "#to print both key and value convert dict into list by using .items and then traverse through it\n",
    "for key,value in empolyee.items():\n",
    "    print(key,value)"
   ]
  }
 ],
 "metadata": {
  "kernelspec": {
   "display_name": "Python 3",
   "language": "python",
   "name": "python3"
  },
  "language_info": {
   "codemirror_mode": {
    "name": "ipython",
    "version": 3
   },
   "file_extension": ".py",
   "mimetype": "text/x-python",
   "name": "python",
   "nbconvert_exporter": "python",
   "pygments_lexer": "ipython3",
   "version": "3.12.5"
  }
 },
 "nbformat": 4,
 "nbformat_minor": 5
}
