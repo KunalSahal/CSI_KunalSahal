{
 "cells": [
  {
   "cell_type": "code",
   "execution_count": 1,
   "id": "256e97dd",
   "metadata": {},
   "outputs": [
    {
     "name": "stdout",
     "output_type": "stream",
     "text": [
      "Module is imported successfully\n"
     ]
    }
   ],
   "source": [
    "import test_module"
   ]
  },
  {
   "cell_type": "code",
   "execution_count": 2,
   "id": "c868c39d",
   "metadata": {},
   "outputs": [
    {
     "name": "stdout",
     "output_type": "stream",
     "text": [
      "30\n"
     ]
    }
   ],
   "source": [
    "# calling function with complete module name \n",
    "print(test_module.sum(10, 20))"
   ]
  },
  {
   "cell_type": "code",
   "execution_count": 3,
   "id": "17553d94",
   "metadata": {},
   "outputs": [],
   "source": [
    "import test_module as tm"
   ]
  },
  {
   "cell_type": "code",
   "execution_count": 4,
   "id": "c1b434a8",
   "metadata": {},
   "outputs": [
    {
     "name": "stdout",
     "output_type": "stream",
     "text": [
      "30\n"
     ]
    }
   ],
   "source": [
    "# calling with custom name provided \n",
    "print(tm.sum(10, 20))"
   ]
  },
  {
   "cell_type": "code",
   "execution_count": 5,
   "id": "331cbb30",
   "metadata": {},
   "outputs": [],
   "source": [
    "# importing a specific function instead of whole file \n",
    "from test_module import sum "
   ]
  },
  {
   "cell_type": "code",
   "execution_count": 6,
   "id": "ff6cc14f",
   "metadata": {},
   "outputs": [
    {
     "name": "stdout",
     "output_type": "stream",
     "text": [
      "30\n"
     ]
    }
   ],
   "source": [
    "print(sum(10, 20))"
   ]
  },
  {
   "cell_type": "code",
   "execution_count": 7,
   "id": "c0013d90",
   "metadata": {},
   "outputs": [],
   "source": [
    "# from test_module import * -> to import every module"
   ]
  },
  {
   "cell_type": "markdown",
   "id": "9403b63c",
   "metadata": {},
   "source": [
    "### How does python find the module?\n",
    "-> Python searches in multiple locations to find the asked module and they in the sequence stored in a list <b>sys.path</b> where sys itself is a module \n",
    "\n",
    "['D:\\\\Celebal Technologies\\\\CT_CSI_DS_1643\\\\python_basics', 'C:\\\\Python312\\\\python312.zip', 'C:\\\\Python312\\\\DLLs', 'C:\\\\Python312\\\\Lib', 'C:\\\\Python312', 'C:\\\\Users\\\\lenovo\\\\AppData\\\\Roaming\\\\Python\\\\Python312\\\\site-packages', 'C:\\\\Users\\\\lenovo\\\\AppData\\\\Roaming\\\\Python\\\\Python312\\\\site-packages\\\\win32', 'C:\\\\Users\\\\lenovo\\\\AppData\\\\Roaming\\\\Python\\\\Python312\\\\site-packages\\\\win32\\\\lib', 'C:\\\\Users\\\\lenovo\\\\AppData\\\\Roaming\\\\Python\\\\Python312\\\\site-packages\\\\Pythonwin', 'C:\\\\Python312\\\\Lib\\\\site-packages']\n",
    "\n",
    "1. is the directory where current program file is stored so found it there\n",
    "2. "
   ]
  },
  {
   "cell_type": "code",
   "execution_count": 8,
   "id": "c8fbf99f",
   "metadata": {},
   "outputs": [
    {
     "name": "stdout",
     "output_type": "stream",
     "text": [
      "['c:\\\\Python312\\\\python312.zip', 'c:\\\\Python312\\\\DLLs', 'c:\\\\Python312\\\\Lib', 'c:\\\\Python312', '', 'C:\\\\Users\\\\lenovo\\\\AppData\\\\Roaming\\\\Python\\\\Python312\\\\site-packages', 'C:\\\\Users\\\\lenovo\\\\AppData\\\\Roaming\\\\Python\\\\Python312\\\\site-packages\\\\win32', 'C:\\\\Users\\\\lenovo\\\\AppData\\\\Roaming\\\\Python\\\\Python312\\\\site-packages\\\\win32\\\\lib', 'C:\\\\Users\\\\lenovo\\\\AppData\\\\Roaming\\\\Python\\\\Python312\\\\site-packages\\\\Pythonwin', 'c:\\\\Python312\\\\Lib\\\\site-packages']\n"
     ]
    }
   ],
   "source": [
    "import sys\n",
    "\n",
    "print(sys.path)"
   ]
  },
  {
   "cell_type": "code",
   "execution_count": null,
   "id": "5d683f2f",
   "metadata": {},
   "outputs": [],
   "source": []
  }
 ],
 "metadata": {
  "kernelspec": {
   "display_name": "Python 3",
   "language": "python",
   "name": "python3"
  },
  "language_info": {
   "codemirror_mode": {
    "name": "ipython",
    "version": 3
   },
   "file_extension": ".py",
   "mimetype": "text/x-python",
   "name": "python",
   "nbconvert_exporter": "python",
   "pygments_lexer": "ipython3",
   "version": "3.12.5"
  }
 },
 "nbformat": 4,
 "nbformat_minor": 5
}
