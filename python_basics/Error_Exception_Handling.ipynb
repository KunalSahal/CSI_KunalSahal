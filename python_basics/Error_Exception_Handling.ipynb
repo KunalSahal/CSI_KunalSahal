{
 "cells": [
  {
   "cell_type": "markdown",
   "id": "7c609ef5",
   "metadata": {},
   "source": [
    "<h1 style=\"text-align:center\">Error/Exception Handling</h1>\n",
    "\n",
    "1. Used to provide more user friendly error/exception message helping to handle them more professionally\n",
    "2. Helps in running remaining code successfully which is not possible if error is not handled as the interpretor will stop and throw the message"
   ]
  },
  {
   "cell_type": "code",
   "execution_count": 15,
   "id": "68de32a3",
   "metadata": {},
   "outputs": [
    {
     "ename": "ZeroDivisionError",
     "evalue": "division by zero",
     "output_type": "error",
     "traceback": [
      "\u001b[31m---------------------------------------------------------------------------\u001b[39m",
      "\u001b[31mZeroDivisionError\u001b[39m                         Traceback (most recent call last)",
      "\u001b[36mCell\u001b[39m\u001b[36m \u001b[39m\u001b[32mIn[15]\u001b[39m\u001b[32m, line 2\u001b[39m\n\u001b[32m      1\u001b[39m \u001b[38;5;66;03m# Handling with general approach \u001b[39;00m\n\u001b[32m----> \u001b[39m\u001b[32m2\u001b[39m var = \u001b[32;43m2\u001b[39;49m\u001b[43m/\u001b[49m\u001b[32;43m0\u001b[39;49m\n\u001b[32m      3\u001b[39m \u001b[38;5;28mprint\u001b[39m(\u001b[33m'\u001b[39m\u001b[33mhi\u001b[39m\u001b[33m'\u001b[39m)\n",
      "\u001b[31mZeroDivisionError\u001b[39m: division by zero"
     ]
    }
   ],
   "source": [
    "# Handling with general approach \n",
    "var = 2/0\n",
    "print('hi')"
   ]
  },
  {
   "cell_type": "code",
   "execution_count": 6,
   "id": "09fee8b8",
   "metadata": {},
   "outputs": [
    {
     "name": "stdout",
     "output_type": "stream",
     "text": [
      "int cant be divided by zero\n"
     ]
    }
   ],
   "source": [
    "# to avoid this developer centric erro message we use \n",
    "try:\n",
    "    var = 2/0\n",
    "except Exception: # Exception is a class \n",
    "    print('int cant be divided by zero') "
   ]
  },
  {
   "cell_type": "code",
   "execution_count": 14,
   "id": "ecceed27",
   "metadata": {},
   "outputs": [
    {
     "name": "stdout",
     "output_type": "stream",
     "text": [
      "division by zero\n",
      "hi\n"
     ]
    }
   ],
   "source": [
    "# multiple except can be used to handle with specific approach \n",
    "# always keep the specified approach at the beginning and general at the bottom else interpretor will never reach till the end \n",
    "try: \n",
    "   var = 2/0\n",
    "   f = open('abc.txt') \n",
    "except ZeroDivisionError as e: # as e helps to print pre-defined error messages \n",
    "    print(e)\n",
    "except FileNotFoundError: # will not execute as try exists after 1st line \n",
    "    print('file does not exists')\n",
    "print('hi')"
   ]
  },
  {
   "cell_type": "code",
   "execution_count": 26,
   "id": "39b66d31",
   "metadata": {},
   "outputs": [
    {
     "ename": "SyntaxError",
     "evalue": "expected 'except' or 'finally' block (4136523593.py, line 8)",
     "output_type": "error",
     "traceback": [
      "  \u001b[36mCell\u001b[39m\u001b[36m \u001b[39m\u001b[32mIn[26]\u001b[39m\u001b[32m, line 8\u001b[39m\n\u001b[31m    \u001b[39m\u001b[31melse:\u001b[39m\n    ^\n\u001b[31mSyntaxError\u001b[39m\u001b[31m:\u001b[39m expected 'except' or 'finally' block\n"
     ]
    }
   ],
   "source": [
    "# else clause\n",
    "# executes code block if no error is catched in try block \n",
    "# will not execute if error is catches which does not happen if written out of the else block it will execute even if erros is catched \n",
    "try:\n",
    "    f = open('test.txt')\n",
    "# except FileNotFoundError:\n",
    "#     print('File does not exists')\n",
    "else:\n",
    "    print(f.read())\n",
    "    f.close()\n",
    "    "
   ]
  },
  {
   "cell_type": "code",
   "execution_count": 33,
   "id": "9460951c",
   "metadata": {},
   "outputs": [
    {
     "name": "stdout",
     "output_type": "stream",
     "text": [
      "Try can be used without except is finally is used\n"
     ]
    },
    {
     "ename": "FileNotFoundError",
     "evalue": "[Errno 2] No such file or directory: 'testt.txt'",
     "output_type": "error",
     "traceback": [
      "\u001b[31m---------------------------------------------------------------------------\u001b[39m",
      "\u001b[31mFileNotFoundError\u001b[39m                         Traceback (most recent call last)",
      "\u001b[36mCell\u001b[39m\u001b[36m \u001b[39m\u001b[32mIn[33]\u001b[39m\u001b[32m, line 4\u001b[39m\n\u001b[32m      1\u001b[39m \u001b[38;5;66;03m# finally clause\u001b[39;00m\n\u001b[32m      2\u001b[39m \u001b[38;5;66;03m# executes wheter an error is caught or not \u001b[39;00m\n\u001b[32m      3\u001b[39m \u001b[38;5;28;01mtry\u001b[39;00m:\n\u001b[32m----> \u001b[39m\u001b[32m4\u001b[39m     f = \u001b[38;5;28;43mopen\u001b[39;49m\u001b[43m(\u001b[49m\u001b[33;43m'\u001b[39;49m\u001b[33;43mtestt.txt\u001b[39;49m\u001b[33;43m'\u001b[39;49m\u001b[43m)\u001b[49m\n\u001b[32m      5\u001b[39m \u001b[38;5;66;03m# except FileNotFoundError:\u001b[39;00m\n\u001b[32m      6\u001b[39m \u001b[38;5;66;03m#     print('File does not exists')\u001b[39;00m\n\u001b[32m      7\u001b[39m \u001b[38;5;28;01mfinally\u001b[39;00m:\n\u001b[32m      8\u001b[39m     \u001b[38;5;28mprint\u001b[39m(\u001b[33m'\u001b[39m\u001b[33mTry can be used without except is finally is used\u001b[39m\u001b[33m'\u001b[39m)\n",
      "\u001b[36mFile \u001b[39m\u001b[32m~\\AppData\\Roaming\\Python\\Python312\\site-packages\\IPython\\core\\interactiveshell.py:325\u001b[39m, in \u001b[36m_modified_open\u001b[39m\u001b[34m(file, *args, **kwargs)\u001b[39m\n\u001b[32m    318\u001b[39m \u001b[38;5;28;01mif\u001b[39;00m file \u001b[38;5;129;01min\u001b[39;00m {\u001b[32m0\u001b[39m, \u001b[32m1\u001b[39m, \u001b[32m2\u001b[39m}:\n\u001b[32m    319\u001b[39m     \u001b[38;5;28;01mraise\u001b[39;00m \u001b[38;5;167;01mValueError\u001b[39;00m(\n\u001b[32m    320\u001b[39m         \u001b[33mf\u001b[39m\u001b[33m\"\u001b[39m\u001b[33mIPython won\u001b[39m\u001b[33m'\u001b[39m\u001b[33mt let you open fd=\u001b[39m\u001b[38;5;132;01m{\u001b[39;00mfile\u001b[38;5;132;01m}\u001b[39;00m\u001b[33m by default \u001b[39m\u001b[33m\"\u001b[39m\n\u001b[32m    321\u001b[39m         \u001b[33m\"\u001b[39m\u001b[33mas it is likely to crash IPython. If you know what you are doing, \u001b[39m\u001b[33m\"\u001b[39m\n\u001b[32m    322\u001b[39m         \u001b[33m\"\u001b[39m\u001b[33myou can use builtins\u001b[39m\u001b[33m'\u001b[39m\u001b[33m open.\u001b[39m\u001b[33m\"\u001b[39m\n\u001b[32m    323\u001b[39m     )\n\u001b[32m--> \u001b[39m\u001b[32m325\u001b[39m \u001b[38;5;28;01mreturn\u001b[39;00m \u001b[43mio_open\u001b[49m\u001b[43m(\u001b[49m\u001b[43mfile\u001b[49m\u001b[43m,\u001b[49m\u001b[43m \u001b[49m\u001b[43m*\u001b[49m\u001b[43margs\u001b[49m\u001b[43m,\u001b[49m\u001b[43m \u001b[49m\u001b[43m*\u001b[49m\u001b[43m*\u001b[49m\u001b[43mkwargs\u001b[49m\u001b[43m)\u001b[49m\n",
      "\u001b[31mFileNotFoundError\u001b[39m: [Errno 2] No such file or directory: 'testt.txt'"
     ]
    }
   ],
   "source": [
    "# finally clause\n",
    "# executes wheter an error is caught or not \n",
    "try:\n",
    "    f = open('testt.txt')\n",
    "# except FileNotFoundError:\n",
    "#     print('File does not exists')\n",
    "finally:\n",
    "    print('Try can be used without except is finally is used')\n",
    "    \n",
    "# First finally go executed and then pre-programmed exception was thrown if except is not used \n",
    "# else except will execute first "
   ]
  },
  {
   "cell_type": "code",
   "execution_count": 39,
   "id": "2cd9fe44",
   "metadata": {},
   "outputs": [
    {
     "name": "stdout",
     "output_type": "stream",
     "text": [
      "0\n",
      "1\n",
      "2\n",
      "custom generated exception\n"
     ]
    }
   ],
   "source": [
    "# Raising exception manually which is not considerd by interpretor \n",
    "try:\n",
    "    for n in range(10):\n",
    "        if n == 3:\n",
    "            raise FileNotFoundError\n",
    "        print(n)\n",
    "except FileNotFoundError:\n",
    "    print('custom generated exception')"
   ]
  },
  {
   "cell_type": "code",
   "execution_count": null,
   "id": "03404338",
   "metadata": {},
   "outputs": [
    {
     "name": "stdout",
     "output_type": "stream",
     "text": [
      "0\n",
      "1\n",
      "Custome exception is raised\n"
     ]
    }
   ],
   "source": [
    "# Creating customer exception \n",
    "class CustomException(Exception): # inheriting class exception \n",
    "    \"\"\" to raise custom exception \"\"\"\n",
    "    pass\n",
    "\n",
    "try:\n",
    "    x=0\n",
    "    \n",
    "    while(x<5):\n",
    "        if x==2:\n",
    "            raise CustomException\n",
    "        print(x)\n",
    "        x+=1\n",
    "except CustomException:\n",
    "    print('Custome exception is raised')"
   ]
  }
 ],
 "metadata": {
  "kernelspec": {
   "display_name": "Python 3",
   "language": "python",
   "name": "python3"
  },
  "language_info": {
   "codemirror_mode": {
    "name": "ipython",
    "version": 3
   },
   "file_extension": ".py",
   "mimetype": "text/x-python",
   "name": "python",
   "nbconvert_exporter": "python",
   "pygments_lexer": "ipython3",
   "version": "3.12.5"
  }
 },
 "nbformat": 4,
 "nbformat_minor": 5
}
