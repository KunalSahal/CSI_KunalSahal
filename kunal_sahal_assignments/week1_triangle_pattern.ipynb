{
 "cells": [
  {
   "cell_type": "code",
   "execution_count": 23,
   "id": "2af1a80a",
   "metadata": {},
   "outputs": [
    {
     "name": "stdout",
     "output_type": "stream",
     "text": [
      "\n",
      "     *\n",
      "    ***\n",
      "   *****\n",
      "  *******\n",
      " *********\n",
      "  *******\n",
      "   *****\n",
      "    ***\n",
      "     *"
     ]
    }
   ],
   "source": [
    "def right_aligned(height, symbol):\n",
    "    \"\"\"To print right aligned triangle\"\"\"\n",
    "\n",
    "    for n in range(height):\n",
    "        print()\n",
    "        for s in range(height, n, -1):\n",
    "            print(\" \", end=\"\")\n",
    "        for m in range(n + 1):\n",
    "            print(symbol, end=\"\")\n",
    "\n",
    "\n",
    "def equilateral(height, symbol):\n",
    "    \"\"\"To print right aligned triangle\"\"\"\n",
    "\n",
    "    a = 1\n",
    "    for n in range(height):\n",
    "        print()\n",
    "        for s in range(height, n, -1):\n",
    "            print(\" \", end=\"\")\n",
    "        for m in range(a):\n",
    "            print(symbol, end=\"\")\n",
    "        a += 2\n",
    "\n",
    "\n",
    "def diamond(height, symbol):\n",
    "    \"\"\"To print diamond shape\"\"\"\n",
    "\n",
    "    # pyramid portion\n",
    "    a = 1\n",
    "    for n in range(height):\n",
    "        print()\n",
    "        for s in range(height, n, -1):\n",
    "            print(\" \", end=\"\")\n",
    "        for m in range(a):\n",
    "            print(symbol, end=\"\")\n",
    "        a += 2\n",
    "    # inverse pyramid portion\n",
    "    a -= 4\n",
    "    for n in range(1, height):\n",
    "        print()\n",
    "        for s in range(-1, n):\n",
    "            print(\" \", end=\"\")\n",
    "        for m in range(a):\n",
    "            print(symbol, end=\"\")\n",
    "        a -= 2\n",
    "\n",
    "\n",
    "try:\n",
    "    var = int(\n",
    "        input(\n",
    "            \"1. For Right Alinged Triangle \\n2. For Equilateral Triangle \\n3. For Diamond \\nYour Choice :\"\n",
    "        )\n",
    "    )\n",
    "    # to check for non-numeric values\n",
    "    height = int(input(\"Enter height of the triangle : \"))\n",
    "    # to check for negative integer values\n",
    "    if height < 0:\n",
    "        raise ValueError\n",
    "except ValueError:\n",
    "    print(\"Invalid input\")\n",
    "else:\n",
    "    symbol = str(input(\"Character to be print in the form of triangle : \"))\n",
    "\n",
    "match var:\n",
    "    case 1:\n",
    "        print(\"insdie right_alinged function\")\n",
    "        right_aligned(height, symbol)\n",
    "    case 2:\n",
    "        equilateral(height, symbol)\n",
    "    case 3:\n",
    "        diamond(height, symbol)\n",
    "    case _:\n",
    "        print('invalid input')\n"
   ]
  },
  {
   "cell_type": "code",
   "execution_count": null,
   "id": "e5647061",
   "metadata": {},
   "outputs": [
    {
     "name": "stdout",
     "output_type": "stream",
     "text": [
      "\n",
      "     *\n",
      "    **\n",
      "   ***\n",
      "  ****\n",
      " *****"
     ]
    }
   ],
   "source": [
    "# withou user input \n",
    "right_aligned(5, '*')"
   ]
  },
  {
   "cell_type": "code",
   "execution_count": null,
   "id": "403c6dec",
   "metadata": {},
   "outputs": [
    {
     "name": "stdout",
     "output_type": "stream",
     "text": [
      "\n",
      "     *\n",
      "    ***\n",
      "   *****\n",
      "  *******\n",
      " *********"
     ]
    }
   ],
   "source": [
    "# withou user input \n",
    "equilateral(5, '*')"
   ]
  }
 ],
 "metadata": {
  "kernelspec": {
   "display_name": "Python 3",
   "language": "python",
   "name": "python3"
  },
  "language_info": {
   "codemirror_mode": {
    "name": "ipython",
    "version": 3
   },
   "file_extension": ".py",
   "mimetype": "text/x-python",
   "name": "python",
   "nbconvert_exporter": "python",
   "pygments_lexer": "ipython3",
   "version": "3.12.5"
  }
 },
 "nbformat": 4,
 "nbformat_minor": 5
}
